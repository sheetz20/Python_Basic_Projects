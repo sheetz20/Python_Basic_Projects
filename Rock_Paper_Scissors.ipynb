{
 "cells": [
  {
   "cell_type": "code",
   "execution_count": 2,
   "metadata": {},
   "outputs": [
    {
     "name": "stdout",
     "output_type": "stream",
     "text": [
      "['Rock', 'Paper', 'Scissors']Rock\n",
      "tie\n",
      "['Rock', 'Paper', 'Scissors']Rock\n",
      "tie\n",
      "['Rock', 'Paper', 'Scissors']Rock\n",
      "You lose! Paper  covers Rock\n",
      "['Rock', 'Paper', 'Scissors']Rock\n",
      "You lose! Paper  covers Rock\n",
      "['Rock', 'Paper', 'Scissors']Rock\n",
      "tie\n",
      "['Rock', 'Paper', 'Scissors']Rock\n",
      "tie\n",
      "['Rock', 'Paper', 'Scissors']Rock\n",
      "You lose! Paper  covers Rock\n",
      "['Rock', 'Paper', 'Scissors']Paper\n",
      "You win! Paper  covers Rock\n",
      "['Rock', 'Paper', 'Scissors']n\n",
      "Thats not a valid play\n",
      "\n",
      "\n"
     ]
    }
   ],
   "source": [
    "import numpy as np\n",
    "t = ['Rock','Paper','Scissors']\n",
    "\n",
    "computer = t[np.random.randint(0,2)]\n",
    "\n",
    "player = False\n",
    "\n",
    "while player == False:\n",
    "    player = input([\"Rock\",\"Paper\",\"Scissors\"])\n",
    "    if player == computer:\n",
    "        print(\"tie\")\n",
    "    elif player == \"Rock\":\n",
    "        if computer == \"Paper\":\n",
    "            print(\"You lose!\",computer,\" covers\",player)\n",
    "        else:\n",
    "            print(\"You win!\",player,\" smashes\",computer)\n",
    "    elif player == \"Paper\":\n",
    "        if computer == \"Scissors\":\n",
    "            print(\"You lose!\",computer,\" cut\",player)\n",
    "        else:\n",
    "            print(\"You win!\",player,\" covers\",computer)\n",
    "    elif player == \"Scissors\":\n",
    "        if computer == \"Rock\":\n",
    "            print(\"You lose!\",computer,\" smashes\",player)\n",
    "        else:\n",
    "            print(\"You win!\",player,\" cut\",computer)\n",
    "    else:\n",
    "        print(\"Thats not a valid play\")\n",
    "        print(\"\\n\")\n",
    "        break\n",
    "    player = False\n",
    "    computer = t[np.random.randint(0,2)]"
   ]
  },
  {
   "cell_type": "code",
   "execution_count": null,
   "metadata": {},
   "outputs": [],
   "source": []
  }
 ],
 "metadata": {
  "kernelspec": {
   "display_name": "Python 3",
   "language": "python",
   "name": "python3"
  },
  "language_info": {
   "codemirror_mode": {
    "name": "ipython",
    "version": 3
   },
   "file_extension": ".py",
   "mimetype": "text/x-python",
   "name": "python",
   "nbconvert_exporter": "python",
   "pygments_lexer": "ipython3",
   "version": "3.8.3"
  }
 },
 "nbformat": 4,
 "nbformat_minor": 4
}
